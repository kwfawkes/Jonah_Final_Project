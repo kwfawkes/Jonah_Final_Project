{
 "cells": [
  {
   "cell_type": "code",
   "execution_count": 108,
   "metadata": {
    "collapsed": false
   },
   "outputs": [],
   "source": [
    "# Import Libraries\n",
    "\n",
    "import numpy as np\n",
    "import sympy as sp\n",
    "x, y, z, t = symbols('x y z t')\n",
    "import pandas as pd"
   ]
  },
  {
   "cell_type": "code",
   "execution_count": 55,
   "metadata": {
    "collapsed": false
   },
   "outputs": [],
   "source": [
    "# Set Variables\n",
    "DFE = 1.5e+11 # Distance of sun from earth\n",
    "S = 3.9e+26 # Solar luminosity\n",
    "SA = 2.82743e+23 # Surface area of sphere\n",
    "SC = 1379.34284 # Solar constant\n"
   ]
  },
  {
   "cell_type": "code",
   "execution_count": 63,
   "metadata": {
    "collapsed": true
   },
   "outputs": [],
   "source": [
    "def Solar_Power_Calculator(Day_Of_Year,Lattitude,Hour_of_Day):\n",
    "    # Calculating Theta D\n",
    "    ThetaD = (2*np.pi*Day_Of_Year)/365\n",
    "    # Calculating distance\n",
    "    # Constants for calculating distance\n",
    "    Dis_n = [0,1,2]\n",
    "    Dis_an = [1.00011,0.034221,0.000719]\n",
    "    Dis_bn = [0,0.00128,0.000077]\n",
    "\n",
    "    Dis1 = Dis_an[0]*np.cos(Dis_n[0]*ThetaD)+Dis_bn[0]*np.sin(Dis_n[0]*ThetaD)\n",
    "    Dis2 = Dis_an[1]*np.cos(Dis_n[1]*ThetaD)+Dis_bn[1]*np.sin(Dis_n[1]*ThetaD)\n",
    "    Dis3 = Dis_an[2]*np.cos(Dis_n[2]*ThetaD)+Dis_bn[2]*np.sin(Dis_n[2]*ThetaD)\n",
    "\n",
    "    # Calculate Distance\n",
    "    Distance = Dis1+Dis2+Dis3\n",
    "\n",
    "    # Constants for calculating declination\n",
    "    Dec_n = [0,1,2,3]\n",
    "    Dec_an = [0.006918,-0.399912,-0.006758,-0.002697]\n",
    "    Dec_bn = [0,0.070257,0.000907,0.00148]\n",
    "\n",
    "    Dec1 = Dec_an[0]*np.cos(Dec_n[0]*ThetaD)+Dec_bn[0]*np.sin(Dec_n[0]*ThetaD)\n",
    "    Dec2 = Dec_an[1]*np.cos(Dec_n[1]*ThetaD)+Dec_bn[1]*np.sin(Dec_n[1]*ThetaD)\n",
    "    Dec3 = Dec_an[2]*np.cos(Dec_n[2]*ThetaD)+Dec_bn[2]*np.sin(Dec_n[2]*ThetaD)\n",
    "    Dec4 = Dec_an[3]*np.cos(Dec_n[3]*ThetaD)+Dec_bn[3]*np.sin(Dec_n[3]*ThetaD)\n",
    "\n",
    "\n",
    "    # Calculate Dec_radians\n",
    "    Dec_radians = Dec1+Dec2+Dec3+Dec4\n",
    "    Dec_degrees = np.degrees(Dec_radians)\n",
    "\n",
    "    # For Hour Angle\n",
    "    Hour_angle = np.radians(Hour_of_Day*15)\n",
    "\n",
    "    # For Radians and Cos Solar Zenith Angle\n",
    "    radians = np.pi/180*Lattitude\n",
    "    CSZA = np.sin(radians)*np.sin(Dec_radians)+np.cos(radians)*np.cos(Dec_radians)*np.cos(Hour_angle)# Cos Solar Zenith Angle\n",
    "\n",
    "    # Calculate Energy/Area (W/m^2)\n",
    "    Watts_Per_SqMeter = SC*Distance*CSZA\n",
    "\n",
    "    print(Watts_Per_SqMeter)"
   ]
  },
  {
   "cell_type": "code",
   "execution_count": 79,
   "metadata": {
    "collapsed": false
   },
   "outputs": [
    {
     "name": "stdout",
     "output_type": "stream",
     "text": [
      "1273.41394936\n"
     ]
    }
   ],
   "source": [
    "Solar_Power_Calculator(100,30,0)"
   ]
  },
  {
   "cell_type": "code",
   "execution_count": null,
   "metadata": {
    "collapsed": true
   },
   "outputs": [],
   "source": []
  },
  {
   "cell_type": "code",
   "execution_count": 87,
   "metadata": {
    "collapsed": true
   },
   "outputs": [],
   "source": []
  },
  {
   "cell_type": "code",
   "execution_count": 106,
   "metadata": {
    "collapsed": false
   },
   "outputs": [
    {
     "name": "stdout",
     "output_type": "stream",
     "text": [
      "0.01721420632104*x\n"
     ]
    }
   ],
   "source": [
    "ThetaD = (2*np.pi*x)/365\n",
    "print(ThetaD)"
   ]
  },
  {
   "cell_type": "code",
   "execution_count": 107,
   "metadata": {
    "collapsed": false
   },
   "outputs": [
    {
     "data": {
      "text/plain": [
       "1152.96450386745"
      ]
     },
     "execution_count": 107,
     "metadata": {},
     "output_type": "execute_result"
    }
   ],
   "source": [
    "sp.integrate(ThetaD,(x,1,366))"
   ]
  },
  {
   "cell_type": "code",
   "execution_count": 103,
   "metadata": {
    "collapsed": false
   },
   "outputs": [],
   "source": [
    "year = list(range(1,366))\n"
   ]
  },
  {
   "cell_type": "code",
   "execution_count": 94,
   "metadata": {
    "collapsed": false
   },
   "outputs": [
    {
     "data": {
      "text/plain": [
       "sin(10)"
      ]
     },
     "execution_count": 94,
     "metadata": {},
     "output_type": "execute_result"
    }
   ],
   "source": [
    "sp.integrate(cos(x),(x,0,10))"
   ]
  },
  {
   "cell_type": "code",
   "execution_count": 78,
   "metadata": {
    "collapsed": false
   },
   "outputs": [
    {
     "name": "stdout",
     "output_type": "stream",
     "text": [
      "Help on function integrate in module sympy.integrals.integrals:\n",
      "\n",
      "integrate(*args, **kwargs)\n",
      "    integrate(f, var, ...)\n",
      "    \n",
      "    Compute definite or indefinite integral of one or more variables\n",
      "    using Risch-Norman algorithm and table lookup. This procedure is\n",
      "    able to handle elementary algebraic and transcendental functions\n",
      "    and also a huge class of special functions, including Airy,\n",
      "    Bessel, Whittaker and Lambert.\n",
      "    \n",
      "    var can be:\n",
      "    \n",
      "    - a symbol                   -- indefinite integration\n",
      "    - a tuple (symbol, a)        -- indefinite integration with result\n",
      "                                    given with `a` replacing `symbol`\n",
      "    - a tuple (symbol, a, b)     -- definite integration\n",
      "    \n",
      "    Several variables can be specified, in which case the result is\n",
      "    multiple integration. (If var is omitted and the integrand is\n",
      "    univariate, the indefinite integral in that variable will be performed.)\n",
      "    \n",
      "    Indefinite integrals are returned without terms that are independent\n",
      "    of the integration variables. (see examples)\n",
      "    \n",
      "    Definite improper integrals often entail delicate convergence\n",
      "    conditions. Pass conds='piecewise', 'separate' or 'none' to have\n",
      "    these returned, respectively, as a Piecewise function, as a separate\n",
      "    result (i.e. result will be a tuple), or not at all (default is\n",
      "    'piecewise').\n",
      "    \n",
      "    **Strategy**\n",
      "    \n",
      "    SymPy uses various approaches to definite integration. One method is to\n",
      "    find an antiderivative for the integrand, and then use the fundamental\n",
      "    theorem of calculus. Various functions are implemented to integrate\n",
      "    polynomial, rational and trigonometric functions, and integrands\n",
      "    containing DiracDelta terms.\n",
      "    \n",
      "    SymPy also implements the part of the Risch algorithm, which is a decision\n",
      "    procedure for integrating elementary functions, i.e., the algorithm can\n",
      "    either find an elementary antiderivative, or prove that one does not\n",
      "    exist.  There is also a (very successful, albeit somewhat slow) general\n",
      "    implementation of the heuristic Risch algorithm.  This algorithm will\n",
      "    eventually be phased out as more of the full Risch algorithm is\n",
      "    implemented. See the docstring of Integral._eval_integral() for more\n",
      "    details on computing the antiderivative using algebraic methods.\n",
      "    \n",
      "    The option risch=True can be used to use only the (full) Risch algorithm.\n",
      "    This is useful if you want to know if an elementary function has an\n",
      "    elementary antiderivative.  If the indefinite Integral returned by this\n",
      "    function is an instance of NonElementaryIntegral, that means that the\n",
      "    Risch algorithm has proven that integral to be non-elementary.  Note that\n",
      "    by default, additional methods (such as the Meijer G method outlined\n",
      "    below) are tried on these integrals, as they may be expressible in terms\n",
      "    of special functions, so if you only care about elementary answers, use\n",
      "    risch=True.  Also note that an unevaluated Integral returned by this\n",
      "    function is not necessarily a NonElementaryIntegral, even with risch=True,\n",
      "    as it may just be an indication that the particular part of the Risch\n",
      "    algorithm needed to integrate that function is not yet implemented.\n",
      "    \n",
      "    Another family of strategies comes from re-writing the integrand in\n",
      "    terms of so-called Meijer G-functions. Indefinite integrals of a\n",
      "    single G-function can always be computed, and the definite integral\n",
      "    of a product of two G-functions can be computed from zero to\n",
      "    infinity. Various strategies are implemented to rewrite integrands\n",
      "    as G-functions, and use this information to compute integrals (see\n",
      "    the ``meijerint`` module).\n",
      "    \n",
      "    The option manual=True can be used to use only an algorithm that tries\n",
      "    to mimic integration by hand. This algorithm does not handle as many\n",
      "    integrands as the other algorithms implemented but may return results in\n",
      "    a more familiar form. The ``manualintegrate`` module has functions that\n",
      "    return the steps used (see the module docstring for more information).\n",
      "    \n",
      "    In general, the algebraic methods work best for computing\n",
      "    antiderivatives of (possibly complicated) combinations of elementary\n",
      "    functions. The G-function methods work best for computing definite\n",
      "    integrals from zero to infinity of moderately complicated\n",
      "    combinations of special functions, or indefinite integrals of very\n",
      "    simple combinations of special functions.\n",
      "    \n",
      "    The strategy employed by the integration code is as follows:\n",
      "    \n",
      "    - If computing a definite integral, and both limits are real,\n",
      "      and at least one limit is +- oo, try the G-function method of\n",
      "      definite integration first.\n",
      "    \n",
      "    - Try to find an antiderivative, using all available methods, ordered\n",
      "      by performance (that is try fastest method first, slowest last; in\n",
      "      particular polynomial integration is tried first, meijer\n",
      "      g-functions second to last, and heuristic risch last).\n",
      "    \n",
      "    - If still not successful, try G-functions irrespective of the\n",
      "      limits.\n",
      "    \n",
      "    The option meijerg=True, False, None can be used to, respectively:\n",
      "    always use G-function methods and no others, never use G-function\n",
      "    methods, or use all available methods (in order as described above).\n",
      "    It defaults to None.\n",
      "    \n",
      "    Examples\n",
      "    ========\n",
      "    \n",
      "    >>> from sympy import integrate, log, exp, oo\n",
      "    >>> from sympy.abc import a, x, y\n",
      "    \n",
      "    >>> integrate(x*y, x)\n",
      "    x**2*y/2\n",
      "    \n",
      "    >>> integrate(log(x), x)\n",
      "    x*log(x) - x\n",
      "    \n",
      "    >>> integrate(log(x), (x, 1, a))\n",
      "    a*log(a) - a + 1\n",
      "    \n",
      "    >>> integrate(x)\n",
      "    x**2/2\n",
      "    \n",
      "    Terms that are independent of x are dropped by indefinite integration:\n",
      "    \n",
      "    >>> from sympy import sqrt\n",
      "    >>> integrate(sqrt(1 + x), (x, 0, x))\n",
      "    2*(x + 1)**(3/2)/3 - 2/3\n",
      "    >>> integrate(sqrt(1 + x), x)\n",
      "    2*(x + 1)**(3/2)/3\n",
      "    \n",
      "    >>> integrate(x*y)\n",
      "    Traceback (most recent call last):\n",
      "    ...\n",
      "    ValueError: specify integration variables to integrate x*y\n",
      "    \n",
      "    Note that ``integrate(x)`` syntax is meant only for convenience\n",
      "    in interactive sessions and should be avoided in library code.\n",
      "    \n",
      "    >>> integrate(x**a*exp(-x), (x, 0, oo)) # same as conds='piecewise'\n",
      "    Piecewise((gamma(a + 1), -re(a) < 1),\n",
      "        (Integral(x**a*exp(-x), (x, 0, oo)), True))\n",
      "    \n",
      "    >>> integrate(x**a*exp(-x), (x, 0, oo), conds='none')\n",
      "    gamma(a + 1)\n",
      "    \n",
      "    >>> integrate(x**a*exp(-x), (x, 0, oo), conds='separate')\n",
      "    (gamma(a + 1), -re(a) < 1)\n",
      "    \n",
      "    See Also\n",
      "    ========\n",
      "    \n",
      "    Integral, Integral.doit\n",
      "\n"
     ]
    }
   ],
   "source": [
    "help(sp.integrate)"
   ]
  },
  {
   "cell_type": "code",
   "execution_count": 95,
   "metadata": {
    "collapsed": false
   },
   "outputs": [
    {
     "ename": "SyntaxError",
     "evalue": "invalid syntax (<ipython-input-95-65feae1e8fe8>, line 1)",
     "output_type": "error",
     "traceback": [
      "\u001b[0;36m  File \u001b[0;32m\"<ipython-input-95-65feae1e8fe8>\"\u001b[0;36m, line \u001b[0;32m1\u001b[0m\n\u001b[0;31m    Day of Year\u001b[0m\n\u001b[0m         ^\u001b[0m\n\u001b[0;31mSyntaxError\u001b[0m\u001b[0;31m:\u001b[0m invalid syntax\n"
     ]
    }
   ],
   "source": [
    "Day of Year                          Hour of Day\n",
    "Theta D                              Hour Angle\n",
    "Distance...    Declination-------->  CSZA\n",
    "Energy Output"
   ]
  },
  {
   "cell_type": "code",
   "execution_count": null,
   "metadata": {
    "collapsed": true
   },
   "outputs": [],
   "source": [
    "I understand that the developper of this final project switched topics late yesterday, and"
   ]
  }
 ],
 "metadata": {
  "kernelspec": {
   "display_name": "Python 3",
   "language": "python",
   "name": "python3"
  },
  "language_info": {
   "codemirror_mode": {
    "name": "ipython",
    "version": 3
   },
   "file_extension": ".py",
   "mimetype": "text/x-python",
   "name": "python",
   "nbconvert_exporter": "python",
   "pygments_lexer": "ipython3",
   "version": "3.4.3"
  }
 },
 "nbformat": 4,
 "nbformat_minor": 0
}
